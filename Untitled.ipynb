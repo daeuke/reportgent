{
 "cells": [
  {
   "cell_type": "code",
   "execution_count": 7,
   "metadata": {},
   "outputs": [],
   "source": [
    "JSONdic = {\n",
    "    \"first_name\": \"Jason\",\n",
    "    \"last_name\": \"Baik\",\n",
    "    \"active\": \"Active\",\n",
    "    \"parent_name\": \"Rachel Kyungsun\",\n",
    "    \"parent_email\": \"rachel.kyungsun@gmail.com\",\n",
    "    \"sub_or_cred\": \"Subscription\",\n",
    "    \"location\": \"Toronto\",\n",
    "    \"times_per_week\": 3,\n",
    "    \"id\": 26267,\n",
    "    \"performance\": 4,\n",
    "    \"join_date\": \"2022-11-29T11:33:26.569414\",\n",
    "    \"school\": \"Bayview Secondary School\",\n",
    "    \"statuses_stats\": [\n",
    "        { \"submitted_at\": \"2023-03-22\", \"correct_count\": 9, \"incorrect_count\": 2 },\n",
    "        { \"submitted_at\": \"2023-03-21\", \"correct_count\": 9, \"incorrect_count\": 4 },\n",
    "        { \"submitted_at\": \"2023-03-16\", \"correct_count\": 7, \"incorrect_count\": 11 },\n",
    "        { \"submitted_at\": \"2023-03-15\", \"correct_count\": 10, \"incorrect_count\": 14 },\n",
    "        { \"submitted_at\": \"2023-03-14\", \"correct_count\": 20, \"incorrect_count\": 13 },\n",
    "        { \"submitted_at\": \"2023-03-10\", \"correct_count\": 12, \"incorrect_count\": 10 },\n",
    "        { \"submitted_at\": \"2023-03-08\", \"correct_count\": 16, \"incorrect_count\": 9 },\n",
    "        { \"submitted_at\": \"2023-03-07\", \"correct_count\": 23, \"incorrect_count\": 12 },\n",
    "        { \"submitted_at\": \"2023-02-24\", \"correct_count\": 9, \"incorrect_count\": 5 },\n",
    "        { \"submitted_at\": \"2023-02-22\", \"correct_count\": 5, \"incorrect_count\": 7 },\n",
    "        { \"submitted_at\": \"2023-02-21\", \"correct_count\": 14, \"incorrect_count\": 6 },\n",
    "        { \"submitted_at\": \"2023-02-17\", \"correct_count\": 4, \"incorrect_count\": 7 },\n",
    "        { \"submitted_at\": \"2023-02-15\", \"correct_count\": 6, \"incorrect_count\": 6 },\n",
    "        { \"submitted_at\": \"2023-02-14\", \"correct_count\": 6, \"incorrect_count\": 4 },\n",
    "        { \"submitted_at\": \"2023-02-10\", \"correct_count\": 15, \"incorrect_count\": 4 },\n",
    "        { \"submitted_at\": \"2023-02-09\", \"correct_count\": 6, \"incorrect_count\": 1 },\n",
    "        { \"submitted_at\": \"2023-02-08\", \"correct_count\": 24, \"incorrect_count\": 10 },\n",
    "        { \"submitted_at\": \"2023-02-07\", \"correct_count\": 19, \"incorrect_count\": 6 },\n",
    "        { \"submitted_at\": \"2023-02-01\", \"correct_count\": 6, \"incorrect_count\": 10 },\n",
    "        { \"submitted_at\": \"2023-01-25\", \"correct_count\": 10, \"incorrect_count\": 5 },\n",
    "        { \"submitted_at\": \"2023-01-18\", \"correct_count\": 13, \"incorrect_count\": 11 },\n",
    "        { \"submitted_at\": \"2023-01-12\", \"correct_count\": 7, \"incorrect_count\": 3 },\n",
    "        { \"submitted_at\": \"2023-01-11\", \"correct_count\": 2, \"incorrect_count\": 5 },\n",
    "        { \"submitted_at\": \"2023-01-10\", \"correct_count\": 6, \"incorrect_count\": 2 },\n",
    "        { \"submitted_at\": \"2023-01-05\", \"correct_count\": 4, \"incorrect_count\": 4 },\n",
    "        { \"submitted_at\": \"2023-01-04\", \"correct_count\": 18, \"incorrect_count\": 7 },\n",
    "        { \"submitted_at\": \"2023-01-03\", \"correct_count\": 10, \"incorrect_count\": 7 },\n",
    "        { \"submitted_at\": \"2022-12-29\", \"correct_count\": 21, \"incorrect_count\": 9 },\n",
    "        { \"submitted_at\": \"2022-12-21\", \"correct_count\": 3, \"incorrect_count\": 3 },\n",
    "        { \"submitted_at\": \"2022-12-20\", \"correct_count\": 17, \"incorrect_count\": 12 },\n",
    "        { \"submitted_at\": \"2022-12-15\", \"correct_count\": 14, \"incorrect_count\": 9 },\n",
    "        { \"submitted_at\": \"2022-12-14\", \"correct_count\": 12, \"incorrect_count\": 6 },\n",
    "        { \"submitted_at\": \"2022-12-13\", \"correct_count\": 14, \"incorrect_count\": 8 },\n",
    "        { \"submitted_at\": \"2022-12-09\", \"correct_count\": 13, \"incorrect_count\": 3 },\n",
    "        { \"submitted_at\": \"2022-12-08\", \"correct_count\": 8, \"incorrect_count\": 7 },\n",
    "        { \"submitted_at\": \"2022-12-07\", \"correct_count\": 20, \"incorrect_count\": 4 },\n",
    "        { \"submitted_at\": \"2022-12-01\", \"correct_count\": 4, \"incorrect_count\": 7 },\n",
    "        { \"submitted_at\": \"2022-11-30\", \"correct_count\": 10, \"incorrect_count\": 8 },\n",
    "        { \"submitted_at\": \"2022-11-29\", \"correct_count\": 9, \"incorrect_count\": 1 }\n",
    "    ]\n",
    "}\n"
   ]
  },
  {
   "cell_type": "code",
   "execution_count": 8,
   "metadata": {},
   "outputs": [],
   "source": [
    "import json\n",
    "\n",
    "y = json.dumps(JSONdic)"
   ]
  },
  {
   "cell_type": "code",
   "execution_count": 12,
   "metadata": {},
   "outputs": [
    {
     "data": {
      "text/plain": [
       "'{\"first_name\": \"Jason\", \"last_name\": \"Baik\", \"active\": \"Active\", \"parent_name\": \"Rachel Kyungsun\", \"parent_email\": \"rachel.kyungsun@gmail.com\", \"sub_or_cred\": \"Subscription\", \"location\": \"Toronto\", \"times_per_week\": 3, \"id\": 26267, \"performance\": 4, \"join_date\": \"2022-11-29T11:33:26.569414\", \"school\": \"Bayview Secondary School\", \"statuses_stats\": [{\"submitted_at\": \"2023-03-22\", \"correct_count\": 9, \"incorrect_count\": 2}, {\"submitted_at\": \"2023-03-21\", \"correct_count\": 9, \"incorrect_count\": 4}, {\"submitted_at\": \"2023-03-16\", \"correct_count\": 7, \"incorrect_count\": 11}, {\"submitted_at\": \"2023-03-15\", \"correct_count\": 10, \"incorrect_count\": 14}, {\"submitted_at\": \"2023-03-14\", \"correct_count\": 20, \"incorrect_count\": 13}, {\"submitted_at\": \"2023-03-10\", \"correct_count\": 12, \"incorrect_count\": 10}, {\"submitted_at\": \"2023-03-08\", \"correct_count\": 16, \"incorrect_count\": 9}, {\"submitted_at\": \"2023-03-07\", \"correct_count\": 23, \"incorrect_count\": 12}, {\"submitted_at\": \"2023-02-24\", \"correct_count\": 9, \"incorrect_count\": 5}, {\"submitted_at\": \"2023-02-22\", \"correct_count\": 5, \"incorrect_count\": 7}, {\"submitted_at\": \"2023-02-21\", \"correct_count\": 14, \"incorrect_count\": 6}, {\"submitted_at\": \"2023-02-17\", \"correct_count\": 4, \"incorrect_count\": 7}, {\"submitted_at\": \"2023-02-15\", \"correct_count\": 6, \"incorrect_count\": 6}, {\"submitted_at\": \"2023-02-14\", \"correct_count\": 6, \"incorrect_count\": 4}, {\"submitted_at\": \"2023-02-10\", \"correct_count\": 15, \"incorrect_count\": 4}, {\"submitted_at\": \"2023-02-09\", \"correct_count\": 6, \"incorrect_count\": 1}, {\"submitted_at\": \"2023-02-08\", \"correct_count\": 24, \"incorrect_count\": 10}, {\"submitted_at\": \"2023-02-07\", \"correct_count\": 19, \"incorrect_count\": 6}, {\"submitted_at\": \"2023-02-01\", \"correct_count\": 6, \"incorrect_count\": 10}, {\"submitted_at\": \"2023-01-25\", \"correct_count\": 10, \"incorrect_count\": 5}, {\"submitted_at\": \"2023-01-18\", \"correct_count\": 13, \"incorrect_count\": 11}, {\"submitted_at\": \"2023-01-12\", \"correct_count\": 7, \"incorrect_count\": 3}, {\"submitted_at\": \"2023-01-11\", \"correct_count\": 2, \"incorrect_count\": 5}, {\"submitted_at\": \"2023-01-10\", \"correct_count\": 6, \"incorrect_count\": 2}, {\"submitted_at\": \"2023-01-05\", \"correct_count\": 4, \"incorrect_count\": 4}, {\"submitted_at\": \"2023-01-04\", \"correct_count\": 18, \"incorrect_count\": 7}, {\"submitted_at\": \"2023-01-03\", \"correct_count\": 10, \"incorrect_count\": 7}, {\"submitted_at\": \"2022-12-29\", \"correct_count\": 21, \"incorrect_count\": 9}, {\"submitted_at\": \"2022-12-21\", \"correct_count\": 3, \"incorrect_count\": 3}, {\"submitted_at\": \"2022-12-20\", \"correct_count\": 17, \"incorrect_count\": 12}, {\"submitted_at\": \"2022-12-15\", \"correct_count\": 14, \"incorrect_count\": 9}, {\"submitted_at\": \"2022-12-14\", \"correct_count\": 12, \"incorrect_count\": 6}, {\"submitted_at\": \"2022-12-13\", \"correct_count\": 14, \"incorrect_count\": 8}, {\"submitted_at\": \"2022-12-09\", \"correct_count\": 13, \"incorrect_count\": 3}, {\"submitted_at\": \"2022-12-08\", \"correct_count\": 8, \"incorrect_count\": 7}, {\"submitted_at\": \"2022-12-07\", \"correct_count\": 20, \"incorrect_count\": 4}, {\"submitted_at\": \"2022-12-01\", \"correct_count\": 4, \"incorrect_count\": 7}, {\"submitted_at\": \"2022-11-30\", \"correct_count\": 10, \"incorrect_count\": 8}, {\"submitted_at\": \"2022-11-29\", \"correct_count\": 9, \"incorrect_count\": 1}]}'"
      ]
     },
     "execution_count": 12,
     "metadata": {},
     "output_type": "execute_result"
    }
   ],
   "source": [
    "y"
   ]
  }
 ],
 "metadata": {
  "kernelspec": {
   "display_name": "Python 3",
   "language": "python",
   "name": "python3"
  },
  "language_info": {
   "codemirror_mode": {
    "name": "ipython",
    "version": 3
   },
   "file_extension": ".py",
   "mimetype": "text/x-python",
   "name": "python",
   "nbconvert_exporter": "python",
   "pygments_lexer": "ipython3",
   "version": "3.7.6"
  }
 },
 "nbformat": 4,
 "nbformat_minor": 4
}
